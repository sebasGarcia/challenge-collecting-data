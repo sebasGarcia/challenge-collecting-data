{
 "cells": [
  {
   "cell_type": "code",
   "execution_count": 7,
   "metadata": {},
   "outputs": [],
   "source": [
    "from bs4 import BeautifulSoup\n",
    "import pandas as pd\n",
    "from typing import List\n",
    "\n",
    "from selenium import webdriver\n"
   ]
  },
  {
   "cell_type": "code",
   "execution_count": 5,
   "metadata": {},
   "outputs": [],
   "source": [
    "\n",
    "def cooking_soup(url: str) -> BeautifulSoup:\n",
    "   \"\"\"\n",
    "   This function loads a webpage and all the dynamical elements. It then retrieves the html file as a Beautifulsoup class object\n",
    "   \"\"\"\n",
    "   driver = webdriver.Firefox()\n",
    "   driver.implicitly_wait(3)\n",
    "   driver.get(url)\n",
    "   soup_file = driver.page_source\n",
    "   soup = BeautifulSoup(soup_file)\n",
    "   driver.close()\n",
    "   return soup\n",
    "\n",
    "\n",
    "def url_getter(soup: BeautifulSoup) -> List[str]:\n",
    "   \"\"\"\n",
    "   This function retrieves all urls of all houses on a page on Immoweb.\n",
    "\n",
    "   :params soup: BeautifulSoup\n",
    "\n",
    "   :return: List of str of urls\n",
    "   \"\"\"\n",
    "   list_of_urls = []\n",
    "   first_tags = soup.find_all('li', attrs={'class': 'search-results__item'})\n",
    "   houses = []\n",
    "   for tag in first_tags:\n",
    "      houses += tag.find_all('a', attrs={'class': 'card__title-link'})\n",
    "   for house in houses:\n",
    "      list_of_urls.append(house.get('href'))\n",
    "   return list_of_urls"
   ]
  },
  {
   "cell_type": "code",
   "execution_count": 18,
   "metadata": {},
   "outputs": [],
   "source": [
    "def get_next_page(soup: BeautifulSoup) -> str:\n",
    "    \"\"\"\n",
    "    Function that returns the url of the 'next' button on a page and none if there is no 'next' button\n",
    "\n",
    "    :param soup:  a Beautifulsoup class object\n",
    "    \n",
    "    :return: url as a string if there is a 'next' button, if not it returns None\n",
    "    \"\"\"\n",
    "    button = soup.find('ul', attrs={'class': 'pagination'})\n",
    "    ref = button.find('a', 'pagination__link pagination__link--next button button--text button--size-small')\n",
    "    if ref:\n",
    "        return ref.get('href')\n",
    "    else:\n",
    "        return None\n",
    "    \n",
    "    "
   ]
  },
  {
   "cell_type": "code",
   "execution_count": 39,
   "metadata": {},
   "outputs": [],
   "source": [
    "# list of subtypes, usefull for threading\n",
    "sub_types = ['bungalow', 'castle', 'country-cottage', 'apartment-block', 'town-house', 'chalet', 'farmhouse', 'exceptional-property','mixed-use-building', 'mansion', 'villa', 'manor-house','pavilion', 'other-property', 'duplex', 'triplex', 'studio', 'penthouse', 'loft', 'flat-studio']"
   ]
  },
  {
   "cell_type": "code",
   "execution_count": 67,
   "metadata": {},
   "outputs": [],
   "source": [
    "def get_all_urls(name: str):\n",
    "    \"\"\"\n",
    "    Function that gets the name of a subtype of property on Immoweb and makes a csv file of all urls of all properties of that subtype on Immoweb\n",
    "\n",
    "    :param name: name as str\n",
    "    \"\"\"\n",
    "    all_url = []\n",
    "    new_url = f\"https://www.immoweb.be/en/search/{name}/for-sale?countries=BE&page=1&orderBy=relevance\"\n",
    "    while new_url and (len(all_url)<5000):\n",
    "        soup = cooking_soup(new_url)\n",
    "        new_url = get_next_page(soup)\n",
    "        list = url_getter(soup)\n",
    "        all_url += list\n",
    "    url_list = pd.Series(all_url)\n",
    "    url_list.to_csv(f\"urls_{name}\")"
   ]
  },
  {
   "cell_type": "code",
   "execution_count": 68,
   "metadata": {},
   "outputs": [],
   "source": [
    "from threading import Thread\n",
    "\n",
    "class urlScrapper(Thread):\n",
    "    \"\"\"\n",
    "    A class to speed up looking for urls of properties on Immoweb\n",
    "\n",
    "    Attributes\n",
    "    ----------\n",
    "\n",
    "    : param name is a str representing the subtype of propertie we want to retrieve from Immoweb\n",
    "    \"\"\"\n",
    "    def __init__(self, name):\n",
    "        Thread.__init__(self)\n",
    "        self.name = name\n",
    "    \n",
    "    def run(self):\n",
    "        get_all_urls(self.name)"
   ]
  },
  {
   "cell_type": "code",
   "execution_count": 82,
   "metadata": {},
   "outputs": [],
   "source": [
    "# We make a dictionary of Threads. Experience learns that 6 Threads at once is a good comprimise.\n",
    "dict = {}\n",
    "for name in sub_types[16:]:\n",
    "    dict[name] = urlScrapper(name)"
   ]
  },
  {
   "cell_type": "code",
   "execution_count": 83,
   "metadata": {},
   "outputs": [
    {
     "name": "stderr",
     "output_type": "stream",
     "text": [
      "Exception in thread studio:\n",
      "Traceback (most recent call last):\n",
      "  File \"/Users/wvdvijve/opt/anaconda3/lib/python3.8/threading.py\", line 932, in _bootstrap_inner\n",
      "    self.run()\n",
      "  File \"<ipython-input-68-450049ff4bac>\", line 10, in run\n",
      "  File \"<ipython-input-67-0ceea70cd126>\", line 5, in get_all_urls\n",
      "  File \"<ipython-input-5-511eb66763b3>\", line 9, in cooking_soup\n",
      "  File \"/Users/wvdvijve/opt/anaconda3/lib/python3.8/site-packages/selenium/webdriver/remote/webdriver.py\", line 926, in page_source\n",
      "    return self.execute(Command.GET_PAGE_SOURCE)['value']\n",
      "  File \"/Users/wvdvijve/opt/anaconda3/lib/python3.8/site-packages/selenium/webdriver/remote/webdriver.py\", line 424, in execute\n",
      "    self.error_handler.check_response(response)\n",
      "  File \"/Users/wvdvijve/opt/anaconda3/lib/python3.8/site-packages/selenium/webdriver/remote/errorhandler.py\", line 247, in check_response\n",
      "    raise exception_class(message, screen, stacktrace)\n",
      "selenium.common.exceptions.NoSuchWindowException: Message: Browsing context has been discarded\n",
      "Stacktrace:\n",
      "WebDriverError@chrome://remote/content/shared/webdriver/Errors.jsm:181:5\n",
      "NoSuchWindowError@chrome://remote/content/shared/webdriver/Errors.jsm:415:5\n",
      "assert.that/<@chrome://remote/content/marionette/assert.js:456:13\n",
      "assert.open@chrome://remote/content/marionette/assert.js:164:4\n",
      "GeckoDriver.prototype.getPageSource@chrome://remote/content/marionette/driver.js:989:10\n",
      "despatch@chrome://remote/content/marionette/server.js:306:40\n",
      "execute@chrome://remote/content/marionette/server.js:279:16\n",
      "onPacket/<@chrome://remote/content/marionette/server.js:252:20\n",
      "onPacket@chrome://remote/content/marionette/server.js:253:9\n",
      "_onJSONObjectReady/<@chrome://remote/content/marionette/transport.js:500:20\n",
      "\n"
     ]
    }
   ],
   "source": [
    "# We run each thread\n",
    "for name in sub_types[16:]:\n",
    "    dict[name].start()"
   ]
  }
 ],
 "metadata": {
  "interpreter": {
   "hash": "035582f836b3b677321f22d91e3ecd7d0de918b2dcad74c11c89643ea7e437a4"
  },
  "kernelspec": {
   "display_name": "Python 3.8.8 ('base')",
   "language": "python",
   "name": "python3"
  },
  "language_info": {
   "codemirror_mode": {
    "name": "ipython",
    "version": 3
   },
   "file_extension": ".py",
   "mimetype": "text/x-python",
   "name": "python",
   "nbconvert_exporter": "python",
   "pygments_lexer": "ipython3",
   "version": "3.8.8"
  },
  "orig_nbformat": 4
 },
 "nbformat": 4,
 "nbformat_minor": 2
}
