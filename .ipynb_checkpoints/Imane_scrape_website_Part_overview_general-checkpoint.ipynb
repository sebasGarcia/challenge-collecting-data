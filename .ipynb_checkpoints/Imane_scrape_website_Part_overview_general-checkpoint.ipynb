{
 "cells": [
  {
   "cell_type": "markdown",
   "id": "70b93e4a",
   "metadata": {},
   "source": [
    "# Scrape website: for 1 page\n",
    "\n",
    "\n",
    "WEBSITE https://www.immoweb.be/en/classified/house/for-sale/merelbeke/9820/9768055?searchId=621ca0285011b"
   ]
  },
  {
   "cell_type": "code",
   "execution_count": null,
   "id": "341e6512",
   "metadata": {},
   "outputs": [],
   "source": []
  }
 ],
 "metadata": {
  "kernelspec": {
   "display_name": "Python 3 (ipykernel)",
   "language": "python",
   "name": "python3"
  },
  "language_info": {
   "codemirror_mode": {
    "name": "ipython",
    "version": 3
   },
   "file_extension": ".py",
   "mimetype": "text/x-python",
   "name": "python",
   "nbconvert_exporter": "python",
   "pygments_lexer": "ipython3",
   "version": "3.9.7"
  }
 },
 "nbformat": 4,
 "nbformat_minor": 5
}
